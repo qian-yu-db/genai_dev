{
 "cells": [
  {
   "metadata": {},
   "cell_type": "markdown",
   "source": "# This Notebook Creates UC functions as Tools for Agents",
   "id": "674756402fec9165"
  },
  {
   "cell_type": "code",
   "id": "initial_id",
   "metadata": {
    "collapsed": true,
    "ExecuteTime": {
     "end_time": "2025-04-18T19:37:15.075716Z",
     "start_time": "2025-04-18T19:37:13.821630Z"
    }
   },
   "source": [
    "import mlflow\n",
    "from databricks.connect import DatabricksSession\n",
    "from dotenv import load_dotenv\n",
    "\n",
    "spark = DatabricksSession.builder.getOrCreate()\n",
    "load_dotenv('../.env')\n",
    "\n",
    "DATABRICKS_HOST = os.getenv('host')\n",
    "DATABRICKS_TOKEN = os.getenv('token')\n",
    "OPENAI_API_KEY = os.getenv('OPENAI_API_KEY')\n",
    "\n",
    "print(f\"host: {DATABRICKS_HOST}\")"
   ],
   "outputs": [
    {
     "name": "stdout",
     "output_type": "stream",
     "text": [
      "host: adb-984752964297111.11.azuredatabricks.net\n"
     ]
    }
   ],
   "execution_count": 11
  },
  {
   "metadata": {
    "ExecuteTime": {
     "end_time": "2025-04-18T19:37:15.522804Z",
     "start_time": "2025-04-18T19:37:15.515277Z"
    }
   },
   "cell_type": "code",
   "source": [
    "from unitycatalog.ai.core.base import set_uc_function_client\n",
    "from unitycatalog.ai.core.databricks import DatabricksFunctionClient\n",
    "\n",
    "client = DatabricksFunctionClient()\n",
    "set_uc_function_client(client)\n",
    "\n",
    "CATALOG = 'qyu'\n",
    "SCHEMA = 'dbdemos_fs_travel'\n",
    "model = 'dbdemos_fs_travel_model'"
   ],
   "id": "c0bccf4f4a6c9e6b",
   "outputs": [],
   "execution_count": 12
  },
  {
   "metadata": {
    "ExecuteTime": {
     "end_time": "2025-04-18T19:37:17.725650Z",
     "start_time": "2025-04-18T19:37:16.698438Z"
    }
   },
   "cell_type": "code",
   "source": [
    "def show_uc_tools(catalog: str, schema: str):\n",
    "    \"\"\"\n",
    "    Show UC tools in a given catalog and schema\n",
    "    \"\"\"\n",
    "    func_client = DatabricksFunctionClient()\n",
    "    functions = func_client.list_functions(catalog=catalog, schema=schema)\n",
    "    for func in functions:\n",
    "        print(f\"Name: {func.name} | Description: {func.comment}\")\n",
    "\n",
    "show_uc_tools(CATALOG, SCHEMA)"
   ],
   "id": "129f5ee4d50c9940",
   "outputs": [
    {
     "name": "stdout",
     "output_type": "stream",
     "text": [
      "Name: model_asset_collector | Description: Collect ML model assets from MLFlow and save them to a UC Volume folder\n",
      "Name: model_attributes_to_markdown | Description: Create ML model attributes markdown file from MLFlow and save them to a UC Volume folder\n"
     ]
    }
   ],
   "execution_count": 13
  },
  {
   "metadata": {},
   "cell_type": "markdown",
   "source": "## UC Function: `model_asset_collector()`",
   "id": "2758fa64ee2f5d4"
  },
  {
   "metadata": {
    "ExecuteTime": {
     "end_time": "2025-04-16T18:32:36.020820Z",
     "start_time": "2025-04-16T18:32:35.076947Z"
    }
   },
   "cell_type": "code",
   "source": [
    "sql_function = \\\n",
    "\"\"\"\n",
    "CREATE OR REPLACE FUNCTION qyu.dbdemos_fs_travel.model_asset_collector(\n",
    "    catalog STRING,\n",
    "    schema STRING,\n",
    "    model_name STRING\n",
    ")\n",
    "RETURNS STRING\n",
    "COMMENT 'Collect ML model assets from MLFlow and save them to a UC Volume folder'\n",
    "LANGUAGE PYTHON\n",
    "ENVIRONMENT (\n",
    "    dependencies = '[\"mlflow==2.21.3\"]',\n",
    "    environment_version = 'None'\n",
    ")\n",
    "AS $$\n",
    "import mlflow\n",
    "from mlflow.tracking import MlflowClient\n",
    "\n",
    "mlflow.set_registry_uri(\"databricks-uc\")\n",
    "client = MlflowClient()\n",
    "model_full_name = f\"{catalog}.{schema}.{model_name}\"\n",
    "volume_path = f\"/Volumes/{catalog}/{schema}/ml_documents\"\n",
    "model_version = client.get_model_version_by_alias(name=model_full_name, alias=\"production\")\n",
    "run_id = model_version.run_id\n",
    "\n",
    "dst_path = os.path.join(volume_path, model_name)\n",
    "\n",
    "# Check if the folder exists and create it if it does not\n",
    "if not os.path.isdir(dst_path):\n",
    "    try:\n",
    "        os.makedirs(dst_path)\n",
    "        print(f\"PASS: Folder `{dst_path}` created\")\n",
    "    except PermissionDenied:\n",
    "        print(f\"FAIL: No permissions to create folder `{dst_path}`\")\n",
    "        raise ValueError(f\"No permissions to create folder `{dst_path}`\")\n",
    "else:\n",
    "    print(f\"PASS: Folder `{dst_path}` already exists\")\n",
    "\n",
    "mlflow.artifacts.download_artifacts(artifact_uri=f\"runs:/{run_id}/\", dst_path=dst_path)\n",
    "return dst_path\n",
    "$$;\n",
    "\"\"\"\n",
    "sql_func_info = client.create_function(sql_function_body=sql_function)"
   ],
   "id": "afcf346bbe6a13e0",
   "outputs": [],
   "execution_count": 16
  },
  {
   "metadata": {},
   "cell_type": "markdown",
   "source": "## UC Functions: `model_attributes_to_markdown()`",
   "id": "ba9a361773e7715c"
  },
  {
   "metadata": {
    "ExecuteTime": {
     "end_time": "2025-04-18T19:37:25.233359Z",
     "start_time": "2025-04-18T19:37:23.171083Z"
    }
   },
   "cell_type": "code",
   "source": [
    "sql_function = \\\n",
    "\"\"\"\n",
    "CREATE OR REPLACE FUNCTION qyu.dbdemos_fs_travel.model_attributes_to_markdown(\n",
    "    catalog STRING,\n",
    "    schema STRING,\n",
    "    model_name STRING\n",
    ")\n",
    "RETURNS STRING\n",
    "COMMENT 'Create ML model attributes markdown file from MLFlow and save them to a UC Volume folder'\n",
    "LANGUAGE PYTHON\n",
    "ENVIRONMENT (\n",
    "    dependencies = '[\"mlflow==2.21.3\", \"markdownify>=1.1.0\", \"json2html>=1.3.0\"]',\n",
    "    environment_version = 'None'\n",
    ")\n",
    "AS $$\n",
    "import mlflow\n",
    "import json\n",
    "from json2html import json2html\n",
    "from mlflow.tracking import MlflowClient\n",
    "\n",
    "client = MlflowClient()\n",
    "model_full_name = f\"{catalog}.{schema}.{model_name}\"\n",
    "dst_path = f\"/Volumes/{catalog}/{schema}/ml_documents/{model_name}\"\n",
    "model_version = client.get_model_version_by_alias(name=model_full_name, alias=\"production\")\n",
    "run_id = model_version.run_id\n",
    "run = client.get_run(run_id)\n",
    "\n",
    "# model properties\n",
    "model_flattened_json = json.dumps({\n",
    "    **run.data.params,\n",
    "    **run.data.metrics,\n",
    "    **run.data.tags\n",
    "}, indent=4)\n",
    "model_html = json2html.convert(json.loads(model_flattened_json))\n",
    "\n",
    "# run properties\n",
    "run_info_dict = {key: value for key, value in run.info.__dict__.items()}\n",
    "run_info_html = json2html.convert(run_info_dict)\n",
    "\n",
    "# data source\n",
    "dataset_input = run.inputs.to_dictionary()['dataset_inputs'][0]\n",
    "data_source = dataset_input['dataset']\n",
    "data_source_html = json2html.convert(data_source)\n",
    "\n",
    "# consolidated information\n",
    "consolidated_md = (f\"# model algorithm, model parameters, and model metrics table\\n\"\n",
    "                f\"{md(model_html)}\\n\"\n",
    "                f\"# model run information table\\n\"\n",
    "                f\"{md(run_info_html)}\\n\"\n",
    "                f\"# data source table\\n\"\n",
    "                f\"{md(data_source_html)}\")\n",
    "\n",
    "with open(f\"{dst_path}/model_attribute_tables.md\", \"w\") as file:\n",
    "    print(f\"writing model attributes tables to {dst_path}/model_attribute_tables.md\")\n",
    "    file.write(consolidated_information)\n",
    "return dst_path\n",
    "$$;\n",
    "\"\"\"\n",
    "sql_func_info = client.create_function(sql_function_body=sql_function)"
   ],
   "id": "eef0c985b96a3ae4",
   "outputs": [],
   "execution_count": 14
  },
  {
   "metadata": {},
   "cell_type": "code",
   "outputs": [],
   "execution_count": null,
   "source": "",
   "id": "38e7630d2cfaee7a"
  }
 ],
 "metadata": {
  "kernelspec": {
   "display_name": "Python 3",
   "language": "python",
   "name": "python3"
  },
  "language_info": {
   "codemirror_mode": {
    "name": "ipython",
    "version": 2
   },
   "file_extension": ".py",
   "mimetype": "text/x-python",
   "name": "python",
   "nbconvert_exporter": "python",
   "pygments_lexer": "ipython2",
   "version": "2.7.6"
  }
 },
 "nbformat": 4,
 "nbformat_minor": 5
}

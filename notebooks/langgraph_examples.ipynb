{
 "cells": [
  {
   "cell_type": "code",
   "id": "initial_id",
   "metadata": {
    "collapsed": true,
    "ExecuteTime": {
     "end_time": "2025-04-27T05:58:06.395541Z",
     "start_time": "2025-04-27T05:58:06.369468Z"
    }
   },
   "source": [
    "from databricks_langchain import ChatDatabricks\n",
    "from langchain_core.tools import tool\n",
    "from langgraph.graph import StateGraph, MessagesState, START, END\n",
    "\n",
    "@tool\n",
    "def get_weather(location: str):\n",
    "    \"\"\"Get the weather for a specified location.\"\"\"\n",
    "    return f\"The weather in {location} is sunny.\"\n",
    "\n",
    "tools = [get_weather]\n",
    "LLM_ENDPOINT_NAME = \"databricks-claude-3-7-sonnet\"\n",
    "LLM = ChatDatabricks(endpoint=LLM_ENDPOINT_NAME)\n",
    "model = LLM.bind_tools(tools)\n",
    "\n",
    "def tool_calling_agent(state):\n",
    "    messages = state[\"messages\"]\n",
    "    # The LLM will decide (in one step) whether to call a tool\n",
    "    response = model.invoke(messages)\n",
    "    return {\"messages\": [response]}\n",
    "\n",
    "# In LangGraph, this could be a single-node graph:\n",
    "workflow = StateGraph(MessagesState)\n",
    "workflow.add_node(\"agent\", tool_calling_agent)\n",
    "workflow.add_edge(START, \"agent\")\n",
    "workflow.add_edge(\"agent\", END)\n",
    "app = workflow.compile()"
   ],
   "outputs": [
    {
     "name": "stderr",
     "output_type": "stream",
     "text": [
      "/var/folders/b3/rdsklr3d0s1f_fzq3pg5try40000gp/T/ipykernel_12854/209697698.py:12: DeprecationWarning: Currently, temperature defaults to 0.0 if not specified. In the next release, temperature will need to be explicitly set. Please update your code to specify a temperature value. Note: If you are using an o1 or o3 model, you need to set temperature=None.\n",
      "  LLM = ChatDatabricks(endpoint=LLM_ENDPOINT_NAME)\n"
     ]
    }
   ],
   "execution_count": 4
  },
  {
   "metadata": {
    "ExecuteTime": {
     "end_time": "2025-04-27T05:58:30.909646Z",
     "start_time": "2025-04-27T05:58:30.339375Z"
    }
   },
   "cell_type": "code",
   "source": [
    "from IPython.display import Image, display\n",
    "\n",
    "display(Image(app.get_graph().draw_mermaid_png()))"
   ],
   "id": "bfd4a96097186ca8",
   "outputs": [
    {
     "data": {
      "image/png": "[encoded data removed]",
      "text/plain": [
       "<IPython.core.display.Image object>"
      ]
     },
     "metadata": {},
     "output_type": "display_data"
    }
   ],
   "execution_count": 5
  },
  {
   "metadata": {},
   "cell_type": "code",
   "outputs": [],
   "execution_count": null,
   "source": "",
   "id": "a759952fb5c6a57"
  }
 ],
 "metadata": {
  "kernelspec": {
   "display_name": "Python 3",
   "language": "python",
   "name": "python3"
  },
  "language_info": {
   "codemirror_mode": {
    "name": "ipython",
    "version": 2
   },
   "file_extension": ".py",
   "mimetype": "text/x-python",
   "name": "python",
   "nbconvert_exporter": "python",
   "pygments_lexer": "ipython2",
   "version": "2.7.6"
  }
 },
 "nbformat": 4,
 "nbformat_minor": 5
}
